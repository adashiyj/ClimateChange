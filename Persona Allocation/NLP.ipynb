{
 "cells": [
  {
   "cell_type": "code",
   "execution_count": 1,
   "id": "7e9567bb-0fe3-4139-b9f1-0572d6f305fb",
   "metadata": {},
   "outputs": [],
   "source": [
    "import pandas as pd"
   ]
  },
  {
   "cell_type": "code",
   "execution_count": 2,
   "id": "75006223-90fc-41f3-872a-929990c30532",
   "metadata": {},
   "outputs": [],
   "source": [
    "df = pd.read_csv(\"personas.csv\")"
   ]
  },
  {
   "cell_type": "code",
   "execution_count": 3,
   "id": "dd426f8d-6437-422a-be05-605acfaf0fb9",
   "metadata": {},
   "outputs": [],
   "source": [
    "ethnicity_map = {\n",
    "    \"INBPN\": \"born in Netherlands, both parents born in Netherlands\",\n",
    "    \"INOPA\": \"born in Netherlands, one parent born abroad\",\n",
    "    \"INBPA\": \"born in Netherlands, both parents born abroad\",\n",
    "    \"ONBPA\": \"born abroad, both parents born abroad\",\n",
    "    \"ONOPA\": \"born abroad, one parent born abroad\",\n",
    "    \"ONBPN\": \"born abroad, both parents born in Netherlands\"\n",
    "}\n",
    "\n",
    "# First, replace abbreviations in the ethnicity column\n",
    "df[\"ethnicity\"] = df[\"ethnicity\"].replace(ethnicity_map)\n",
    "\n",
    "# Then, recreate the 'promt' column with the full ethnicity description\n",
    "df[\"prompt\"] = df.apply(\n",
    "    lambda row: f\"You are a {row['age']} year-old Dutch {row['gender']} who have received {row['education']} education and you are {row['ethnicity']}.\",\n",
    "    axis=1\n",
    ")"
   ]
  },
  {
   "cell_type": "code",
   "execution_count": 4,
   "id": "93f1cabf-c3ed-4eae-8044-b168d0b85031",
   "metadata": {},
   "outputs": [],
   "source": [
    "df = df[[\"ID\", \"researcher\", \"condition\", \"age\", \"gender\", \"ethnicity\", \"education\", \"prompt\"]]"
   ]
  },
  {
   "cell_type": "code",
   "execution_count": 5,
   "id": "4f929d80-b5d2-4407-ba88-9c4d90a90dce",
   "metadata": {},
   "outputs": [],
   "source": [
    "df.to_excel(\"prompts.xlsx\")"
   ]
  },
  {
   "cell_type": "code",
   "execution_count": 6,
   "id": "f4011ef4-eb4c-43fe-9086-ae296e9de8ec",
   "metadata": {},
   "outputs": [
    {
     "name": "stdout",
     "output_type": "stream",
     "text": [
      "Value counts for researcher:\n",
      "researcher\n",
      "Ada          201\n",
      "Luke         201\n",
      "Francesco    201\n",
      "Fleur        201\n",
      "Name: count, dtype: int64\n",
      "\n",
      "\n",
      "Value counts for condition:\n",
      "condition\n",
      "3    134\n",
      "6    134\n",
      "5    134\n",
      "4    134\n",
      "2    134\n",
      "1    134\n",
      "Name: count, dtype: int64\n",
      "\n",
      "\n",
      "Value counts for age:\n",
      "age\n",
      "41-65    265\n",
      "21-40    209\n",
      "<20      169\n",
      "66-80    121\n",
      "81+       40\n",
      "Name: count, dtype: int64\n",
      "\n",
      "\n",
      "Value counts for gender:\n",
      "gender\n",
      "female    404\n",
      "male      400\n",
      "Name: count, dtype: int64\n",
      "\n",
      "\n",
      "Value counts for ethnicity:\n",
      "ethnicity\n",
      "born in Netherlands, both parents born in Netherlands    600\n",
      "born abroad, both parents born abroad                    101\n",
      "born in Netherlands, one parent born abroad               51\n",
      "born in Netherlands, both parents born abroad             41\n",
      "born abroad, both parents born in Netherlands              6\n",
      "born abroad, one parent born abroad                        5\n",
      "Name: count, dtype: int64\n",
      "\n",
      "\n",
      "Value counts for education:\n",
      "education\n",
      "senior     299\n",
      "high       294\n",
      "primary    211\n",
      "Name: count, dtype: int64\n",
      "\n",
      "\n"
     ]
    }
   ],
   "source": [
    "for col in ['researcher', 'condition', 'age', 'gender', 'ethnicity', 'education']:\n",
    "    print(f\"Value counts for {col}:\")\n",
    "    print(df[col].value_counts())\n",
    "    print(\"\\n\")"
   ]
  },
  {
   "cell_type": "code",
   "execution_count": null,
   "id": "7eb3ff36-100d-4522-9dec-b508535c59c1",
   "metadata": {},
   "outputs": [],
   "source": []
  }
 ],
 "metadata": {
  "kernelspec": {
   "display_name": "Python 3 (ipykernel)",
   "language": "python",
   "name": "python3"
  },
  "language_info": {
   "codemirror_mode": {
    "name": "ipython",
    "version": 3
   },
   "file_extension": ".py",
   "mimetype": "text/x-python",
   "name": "python",
   "nbconvert_exporter": "python",
   "pygments_lexer": "ipython3",
   "version": "3.12.5"
  }
 },
 "nbformat": 4,
 "nbformat_minor": 5
}
