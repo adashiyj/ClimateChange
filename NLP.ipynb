{
 "cells": [
  {
   "cell_type": "code",
   "execution_count": 1,
   "id": "7e9567bb-0fe3-4139-b9f1-0572d6f305fb",
   "metadata": {},
   "outputs": [],
   "source": [
    "import pandas as pd"
   ]
  },
  {
   "cell_type": "code",
   "execution_count": 2,
   "id": "75006223-90fc-41f3-872a-929990c30532",
   "metadata": {},
   "outputs": [],
   "source": [
    "df = pd.read_excel(\"personas.xlsx\")"
   ]
  },
  {
   "cell_type": "code",
   "execution_count": 3,
   "id": "326dc8bf-79e5-4508-9c41-0e82eebad8f9",
   "metadata": {},
   "outputs": [],
   "source": [
    "# Replace '<20' with '18-20' in the age column\n",
    "df['age'] = df['age'].replace('<20', '18-20')"
   ]
  },
  {
   "cell_type": "code",
   "execution_count": 4,
   "id": "dd426f8d-6437-422a-be05-605acfaf0fb9",
   "metadata": {},
   "outputs": [],
   "source": [
    "ethnicity_map = {\n",
    "    \"INBPN\": \"born in Netherlands, both parents born in Netherlands\",\n",
    "    \"INOPA\": \"born in Netherlands, one parent born abroad\",\n",
    "    \"INBPA\": \"born in Netherlands, both parents born abroad\",\n",
    "    \"ONBPA\": \"born abroad, both parents born abroad\",\n",
    "    \"ONOPA\": \"born abroad, one parent born abroad\",\n",
    "    \"ONBPN\": \"born abroad, both parents born in Netherlands\"\n",
    "}\n",
    "\n",
    "# First, replace abbreviations in the ethnicity column\n",
    "df[\"ethnicity\"] = df[\"ethnicity\"].replace(ethnicity_map)\n",
    "\n",
    "# Then, recreate the 'promt' column with the full ethnicity description\n",
    "df[\"promt\"] = df.apply(\n",
    "    lambda row: f\"You are a {row['age']} year-old {row['gender']} who have received {row['education']} education and you are {row['ethnicity']}.\",\n",
    "    axis=1\n",
    ")"
   ]
  },
  {
   "cell_type": "code",
   "execution_count": 5,
   "id": "8367a7af-bdf2-4176-858a-c2e66b59edae",
   "metadata": {},
   "outputs": [
    {
     "data": {
      "text/html": [
       "<div>\n",
       "<style scoped>\n",
       "    .dataframe tbody tr th:only-of-type {\n",
       "        vertical-align: middle;\n",
       "    }\n",
       "\n",
       "    .dataframe tbody tr th {\n",
       "        vertical-align: top;\n",
       "    }\n",
       "\n",
       "    .dataframe thead th {\n",
       "        text-align: right;\n",
       "    }\n",
       "</style>\n",
       "<table border=\"1\" class=\"dataframe\">\n",
       "  <thead>\n",
       "    <tr style=\"text-align: right;\">\n",
       "      <th></th>\n",
       "      <th>ID</th>\n",
       "      <th>researcher</th>\n",
       "      <th>age</th>\n",
       "      <th>gender</th>\n",
       "      <th>ethnicity</th>\n",
       "      <th>education</th>\n",
       "      <th>promt</th>\n",
       "    </tr>\n",
       "  </thead>\n",
       "  <tbody>\n",
       "    <tr>\n",
       "      <th>0</th>\n",
       "      <td>1</td>\n",
       "      <td>Fleur</td>\n",
       "      <td>20-40</td>\n",
       "      <td>male</td>\n",
       "      <td>born in Netherlands, both parents born in Neth...</td>\n",
       "      <td>high</td>\n",
       "      <td>You are a 20-40 year-old male who have receive...</td>\n",
       "    </tr>\n",
       "    <tr>\n",
       "      <th>1</th>\n",
       "      <td>2</td>\n",
       "      <td>Fleur</td>\n",
       "      <td>20-40</td>\n",
       "      <td>male</td>\n",
       "      <td>born abroad, both parents born abroad</td>\n",
       "      <td>high</td>\n",
       "      <td>You are a 20-40 year-old male who have receive...</td>\n",
       "    </tr>\n",
       "    <tr>\n",
       "      <th>2</th>\n",
       "      <td>3</td>\n",
       "      <td>Fleur</td>\n",
       "      <td>20-40</td>\n",
       "      <td>male</td>\n",
       "      <td>born in Netherlands, both parents born in Neth...</td>\n",
       "      <td>high</td>\n",
       "      <td>You are a 20-40 year-old male who have receive...</td>\n",
       "    </tr>\n",
       "    <tr>\n",
       "      <th>3</th>\n",
       "      <td>4</td>\n",
       "      <td>Fleur</td>\n",
       "      <td>20-40</td>\n",
       "      <td>female</td>\n",
       "      <td>born in Netherlands, both parents born in Neth...</td>\n",
       "      <td>primary</td>\n",
       "      <td>You are a 20-40 year-old female who have recei...</td>\n",
       "    </tr>\n",
       "    <tr>\n",
       "      <th>4</th>\n",
       "      <td>5</td>\n",
       "      <td>Fleur</td>\n",
       "      <td>20-40</td>\n",
       "      <td>male</td>\n",
       "      <td>born abroad, both parents born abroad</td>\n",
       "      <td>high</td>\n",
       "      <td>You are a 20-40 year-old male who have receive...</td>\n",
       "    </tr>\n",
       "  </tbody>\n",
       "</table>\n",
       "</div>"
      ],
      "text/plain": [
       "   ID researcher    age  gender  \\\n",
       "0   1      Fleur  20-40    male   \n",
       "1   2      Fleur  20-40    male   \n",
       "2   3      Fleur  20-40    male   \n",
       "3   4      Fleur  20-40  female   \n",
       "4   5      Fleur  20-40    male   \n",
       "\n",
       "                                           ethnicity education  \\\n",
       "0  born in Netherlands, both parents born in Neth...      high   \n",
       "1              born abroad, both parents born abroad      high   \n",
       "2  born in Netherlands, both parents born in Neth...      high   \n",
       "3  born in Netherlands, both parents born in Neth...   primary   \n",
       "4              born abroad, both parents born abroad      high   \n",
       "\n",
       "                                               promt  \n",
       "0  You are a 20-40 year-old male who have receive...  \n",
       "1  You are a 20-40 year-old male who have receive...  \n",
       "2  You are a 20-40 year-old male who have receive...  \n",
       "3  You are a 20-40 year-old female who have recei...  \n",
       "4  You are a 20-40 year-old male who have receive...  "
      ]
     },
     "execution_count": 5,
     "metadata": {},
     "output_type": "execute_result"
    }
   ],
   "source": [
    "df.head()"
   ]
  },
  {
   "cell_type": "code",
   "execution_count": 6,
   "id": "4f929d80-b5d2-4407-ba88-9c4d90a90dce",
   "metadata": {},
   "outputs": [],
   "source": [
    "df.to_excel(\"prompts.xlsx\")"
   ]
  },
  {
   "cell_type": "code",
   "execution_count": null,
   "id": "f4011ef4-eb4c-43fe-9086-ae296e9de8ec",
   "metadata": {},
   "outputs": [],
   "source": []
  }
 ],
 "metadata": {
  "kernelspec": {
   "display_name": "Python 3 (ipykernel)",
   "language": "python",
   "name": "python3"
  },
  "language_info": {
   "codemirror_mode": {
    "name": "ipython",
    "version": 3
   },
   "file_extension": ".py",
   "mimetype": "text/x-python",
   "name": "python",
   "nbconvert_exporter": "python",
   "pygments_lexer": "ipython3",
   "version": "3.12.5"
  }
 },
 "nbformat": 4,
 "nbformat_minor": 5
}
